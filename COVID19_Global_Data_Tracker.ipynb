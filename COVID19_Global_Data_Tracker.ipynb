{
 "cells": [
  {
   "cell_type": "code",
   "execution_count": null,
   "metadata": {},
   "outputs": [],
   "source": [
    "import pandas as pd\n",
    "import matplotlib.pyplot as plt\n",
    "import seaborn as sns\n",
    "# Optional (for maps later)\n",
    "#import plotly.express as px\n",
    "\n",
    "# Settings for visuals\n",
    "sns.set(style=\"whitegrid\")\n",
    "%matplotlib inline\n"
   ]
  },
  {
   "cell_type": "code",
   "execution_count": null,
   "metadata": {},
   "outputs": [],
   "source": [
    "df = pd.read_csv(\"owid-covid-data.csv\")\n",
    "print(f\"Dataset shape: {df.shape}\")\n",
    "df.head()\n"
   ]
  },
  {
   "cell_type": "code",
   "execution_count": null,
   "metadata": {},
   "outputs": [],
   "source": [
    "print(\"Columns in dataset:\")\n",
    "print(df.columns)\n",
    "\n",
    "print(\"\\nMissing values per column:\")\n",
    "print(df.isnull().sum())\n"
   ]
  },
  {
   "cell_type": "code",
   "execution_count": null,
   "metadata": {},
   "outputs": [],
   "source": [
    "# Select countries\n",
    "countries = [\"Kenya\", \"United States\", \"India\"]\n",
    "\n",
    "# Filter rows by country\n",
    "df_countries = df[df['location'].isin(countries)].copy()\n",
    "\n",
    "# Convert 'date' column to datetime\n",
    "df_countries['date'] = pd.to_datetime(df_countries['date'])\n",
    "\n",
    "# Fill missing numeric values forward for smooth plotting\n",
    "df_countries[['total_cases', 'total_deaths', 'new_cases', 'new_deaths', 'total_vaccinations']] = \\\n",
    "    df_countries[['total_cases', 'total_deaths', 'new_cases', 'new_deaths', 'total_vaccinations']].fillna(method='ffill')\n",
    "\n",
    "df_countries.head()\n"
   ]
  },
  {
   "cell_type": "code",
   "execution_count": null,
   "metadata": {},
   "outputs": [],
   "source": [
    "plt.figure(figsize=(12,6))\n",
    "for country in countries:\n",
    "    subset = df_countries[df_countries['location'] == country]\n",
    "    plt.plot(subset['date'], subset['total_cases'], label=country)\n",
    "\n",
    "plt.title('Total COVID-19 Cases Over Time')\n",
    "plt.xlabel('Date')\n",
    "plt.ylabel('Total Cases')\n",
    "plt.legend()\n",
    "plt.show()\n"
   ]
  },
  {
   "cell_type": "code",
   "execution_count": null,
   "metadata": {},
   "outputs": [],
   "source": [
    "plt.figure(figsize=(12,6))\n",
    "for country in countries:\n",
    "    subset = df_countries[df_countries['location'] == country]\n",
    "    plt.plot(subset['date'], subset['total_deaths'], label=country)\n",
    "\n",
    "plt.title('Total COVID-19 Deaths Over Time')\n",
    "plt.xlabel('Date')\n",
    "plt.ylabel('Total Deaths')\n",
    "plt.legend()\n",
    "plt.show()\n"
   ]
  },
  {
   "cell_type": "code",
   "execution_count": null,
   "metadata": {},
   "outputs": [],
   "source": [
    "df_countries['death_rate'] = df_countries['total_deaths'] / df_countries['total_cases']\n",
    "\n",
    "plt.figure(figsize=(12,6))\n",
    "for country in countries:\n",
    "    subset = df_countries[df_countries['location'] == country]\n",
    "    plt.plot(subset['date'], subset['death_rate'], label=country)\n",
    "\n",
    "plt.title('COVID-19 Death Rate Over Time')\n",
    "plt.xlabel('Date')\n",
    "plt.ylabel('Death Rate')\n",
    "plt.legend()\n",
    "plt.show()\n"
   ]
  },
  {
   "cell_type": "markdown",
   "metadata": {},
   "source": [
    "# Insights from the COVID-19 Data\n",
    "\n",
    "- The United States has had the highest number of total cases and vaccinations among the selected countries.\n",
    "- India experienced rapid increases in cases and deaths during peaks in the pandemic.\n",
    "- Kenya shows slower vaccination progress compared to the USA and India.\n",
    "- The death rate has generally decreased over time, possibly reflecting better treatments and vaccine effects.\n",
    "\n"
   ]
  },
  {
   "cell_type": "code",
   "execution_count": null,
   "metadata": {},
   "outputs": [],
   "source": [
    "# Get the latest date in the dataset\n",
    "latest_date = df['date'].max()\n",
    "\n",
    "# Filter data for the latest date\n",
    "latest_data = df[df['date'] == latest_date]\n",
    "\n",
    "# Select top 10 countries by total cases\n",
    "top_countries = latest_data[['location', 'total_cases']].sort_values(by='total_cases', ascending=False).head(10)\n",
    "\n",
    "plt.figure(figsize=(12,6))\n",
    "sns.barplot(x='total_cases', y='location', data=top_countries, palette='Reds_r')\n",
    "plt.title('Top 10 Countries by Total COVID-19 Cases (Latest Date)')\n",
    "plt.xlabel('Total Cases')\n",
    "plt.ylabel('Country')\n",
    "plt.show()\n"
   ]
  },
  {
   "cell_type": "code",
   "execution_count": null,
   "metadata": {},
   "outputs": [],
   "source": [
    "# Select numeric columns for correlation\n",
    "numeric_cols = ['total_cases', 'total_deaths', 'new_cases', 'new_deaths', 'total_vaccinations']\n",
    "\n",
    "# Calculate correlation matrix\n",
    "corr = df_countries[numeric_cols].corr()\n",
    "\n",
    "plt.figure(figsize=(8,6))\n",
    "sns.heatmap(corr, annot=True, cmap='coolwarm', fmt='.2f')\n",
    "plt.title('Correlation Heatmap of COVID-19 Metrics')\n",
    "plt.show()\n"
   ]
  },
  {
   "cell_type": "code",
   "execution_count": null,
   "metadata": {},
   "outputs": [],
   "source": [
    "import plotly.express as px\n",
    "\n",
    "# Prepare data for map - latest total cases per country\n",
    "map_data = latest_data[['iso_code', 'location', 'total_cases']].dropna()\n",
    "\n",
    "fig = px.choropleth(map_data,\n",
    "                    locations='iso_code',\n",
    "                    color='total_cases',\n",
    "                    hover_name='location',\n",
    "                    color_continuous_scale='Reds',\n",
    "                    title='Global COVID-19 Total Cases (Latest Date)')\n",
    "\n",
    "fig.show()\n"
   ]
  },
  {
   "cell_type": "markdown",
   "metadata": {},
   "source": [
    "# Summary and Conclusions\n",
    "\n",
    "- COVID-19 cases and deaths peaked at different times across countries.\n",
    "- Vaccination rollout has varied widely, impacting case and death rates.\n",
    "- Correlation analysis shows strong relationships between cases, deaths, and new cases.\n",
    "- Choropleth map highlights global hotspots in terms of total cases.\n",
    "- Further analysis could include hospitalization rates, ICU usage, or socio-economic factors.\n"
   ]
  },
  {
   "cell_type": "code",
   "execution_count": null,
   "metadata": {},
   "outputs": [],
   "source": [
    "import ipywidgets as widgets\n",
    "from IPython.display import display\n",
    "\n",
    "# Dropdown widget for country selection\n",
    "country_selector = widgets.Dropdown(\n",
    "    options=df['location'].unique(),\n",
    "    description='Country:',\n",
    "    value='Kenya',\n",
    "    disabled=False,\n",
    ")\n",
    "\n",
    "# Date range slider widget\n",
    "date_slider = widgets.SelectionRangeSlider(\n",
    "    options=sorted(df['date'].unique()),\n",
    "    index=(0, len(df['date'].unique()) - 1),\n",
    "    description='Date Range',\n",
    "    orientation='horizontal',\n",
    "    layout={'width': '600px'}\n",
    ")\n",
    "\n",
    "def plot_interactive(country, date_range):\n",
    "    start_date, end_date = date_range\n",
    "    mask = (df['location'] == country) & (df['date'] >= start_date) & (df['date'] <= end_date)\n",
    "    data = df.loc[mask]\n",
    "\n",
    "    plt.figure(figsize=(12,5))\n",
    "    plt.plot(data['date'], data['total_cases'], label='Total Cases')\n",
    "    plt.plot(data['date'], data['total_deaths'], label='Total Deaths')\n",
    "    plt.plot(data['date'], data['total_vaccinations'], label='Total Vaccinations')\n",
    "    plt.title(f'COVID-19 Data for {country}')\n",
    "    plt.xlabel('Date')\n",
    "    plt.ylabel('Count')\n",
    "    plt.legend()\n",
    "    plt.show()\n",
    "\n",
    "# Use interact_manual to update plot on button click\n",
    "widgets.interact_manual(\n",
    "    plot_interactive,\n",
    "    country=country_selector,\n",
    "    date_range=date_slider\n",
    ")\n"
   ]
  }
 ],
 "metadata": {
  "language_info": {
   "name": "python"
  }
 },
 "nbformat": 4,
 "nbformat_minor": 2
}
